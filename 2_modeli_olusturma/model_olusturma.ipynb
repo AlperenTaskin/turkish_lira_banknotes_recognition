{
 "cells": [
  {
   "cell_type": "markdown",
   "metadata": {
    "colab_type": "text",
    "id": "cYzbxJHs7EE4"
   },
   "source": [
    "# Modelin Eğitimi"
   ]
  },
  {
   "cell_type": "code",
   "execution_count": 0,
   "metadata": {
    "colab": {},
    "colab_type": "code",
    "id": "FdJWNG4E7EE6"
   },
   "outputs": [],
   "source": [
    "import numpy as np\n",
    "import pandas as pd\n",
    "import matplotlib.pyplot as plt"
   ]
  },
  {
   "cell_type": "code",
   "execution_count": 0,
   "metadata": {
    "colab": {},
    "colab_type": "code",
    "id": "d7XicuLA7EE9"
   },
   "outputs": [],
   "source": [
    "X = pd.read_csv('../verisetleri/images.csv')\n",
    "y = pd.read_csv('../verisetleri/labels.csv')"
   ]
  },
  {
   "cell_type": "markdown",
   "metadata": {
    "colab_type": "text",
    "id": "8baqf0a57EE_"
   },
   "source": [
    "## X ve y'nin Baştan 5 Satırına Bakıyoruz"
   ]
  },
  {
   "cell_type": "code",
   "execution_count": 0,
   "metadata": {
    "colab": {
     "base_uri": "https://localhost:8080/",
     "height": 233
    },
    "colab_type": "code",
    "executionInfo": {
     "elapsed": 648,
     "status": "ok",
     "timestamp": 1544436659426,
     "user": {
      "displayName": "Alperen Taşkın",
      "photoUrl": "https://lh3.googleusercontent.com/-DRYpxJPI8_I/AAAAAAAAAAI/AAAAAAAAAMg/o7BBD-G7ixQ/s64/photo.jpg",
      "userId": "04327173820284993211"
     },
     "user_tz": -180
    },
    "id": "bv45jdKM7EFA",
    "outputId": "5934184e-9d3e-4de8-b245-727843a04341"
   },
   "outputs": [
    {
     "data": {
      "text/html": [
       "<div>\n",
       "<style scoped>\n",
       "    .dataframe tbody tr th:only-of-type {\n",
       "        vertical-align: middle;\n",
       "    }\n",
       "\n",
       "    .dataframe tbody tr th {\n",
       "        vertical-align: top;\n",
       "    }\n",
       "\n",
       "    .dataframe thead th {\n",
       "        text-align: right;\n",
       "    }\n",
       "</style>\n",
       "<table border=\"1\" class=\"dataframe\">\n",
       "  <thead>\n",
       "    <tr style=\"text-align: right;\">\n",
       "      <th></th>\n",
       "      <th>Unnamed: 0</th>\n",
       "      <th>0</th>\n",
       "      <th>1</th>\n",
       "      <th>2</th>\n",
       "      <th>3</th>\n",
       "      <th>4</th>\n",
       "      <th>5</th>\n",
       "      <th>6</th>\n",
       "      <th>7</th>\n",
       "      <th>8</th>\n",
       "      <th>...</th>\n",
       "      <th>18390</th>\n",
       "      <th>18391</th>\n",
       "      <th>18392</th>\n",
       "      <th>18393</th>\n",
       "      <th>18394</th>\n",
       "      <th>18395</th>\n",
       "      <th>18396</th>\n",
       "      <th>18397</th>\n",
       "      <th>18398</th>\n",
       "      <th>18399</th>\n",
       "    </tr>\n",
       "  </thead>\n",
       "  <tbody>\n",
       "    <tr>\n",
       "      <th>0</th>\n",
       "      <td>0</td>\n",
       "      <td>244</td>\n",
       "      <td>242</td>\n",
       "      <td>241</td>\n",
       "      <td>245</td>\n",
       "      <td>247</td>\n",
       "      <td>247</td>\n",
       "      <td>247</td>\n",
       "      <td>245</td>\n",
       "      <td>247</td>\n",
       "      <td>...</td>\n",
       "      <td>230</td>\n",
       "      <td>230</td>\n",
       "      <td>228</td>\n",
       "      <td>225</td>\n",
       "      <td>224</td>\n",
       "      <td>222</td>\n",
       "      <td>222</td>\n",
       "      <td>229</td>\n",
       "      <td>224</td>\n",
       "      <td>218</td>\n",
       "    </tr>\n",
       "    <tr>\n",
       "      <th>1</th>\n",
       "      <td>1</td>\n",
       "      <td>234</td>\n",
       "      <td>234</td>\n",
       "      <td>234</td>\n",
       "      <td>234</td>\n",
       "      <td>232</td>\n",
       "      <td>233</td>\n",
       "      <td>234</td>\n",
       "      <td>235</td>\n",
       "      <td>235</td>\n",
       "      <td>...</td>\n",
       "      <td>239</td>\n",
       "      <td>240</td>\n",
       "      <td>240</td>\n",
       "      <td>237</td>\n",
       "      <td>241</td>\n",
       "      <td>236</td>\n",
       "      <td>237</td>\n",
       "      <td>234</td>\n",
       "      <td>234</td>\n",
       "      <td>234</td>\n",
       "    </tr>\n",
       "    <tr>\n",
       "      <th>2</th>\n",
       "      <td>2</td>\n",
       "      <td>226</td>\n",
       "      <td>234</td>\n",
       "      <td>229</td>\n",
       "      <td>227</td>\n",
       "      <td>227</td>\n",
       "      <td>228</td>\n",
       "      <td>225</td>\n",
       "      <td>228</td>\n",
       "      <td>226</td>\n",
       "      <td>...</td>\n",
       "      <td>238</td>\n",
       "      <td>238</td>\n",
       "      <td>236</td>\n",
       "      <td>237</td>\n",
       "      <td>238</td>\n",
       "      <td>239</td>\n",
       "      <td>238</td>\n",
       "      <td>237</td>\n",
       "      <td>238</td>\n",
       "      <td>239</td>\n",
       "    </tr>\n",
       "    <tr>\n",
       "      <th>3</th>\n",
       "      <td>3</td>\n",
       "      <td>234</td>\n",
       "      <td>234</td>\n",
       "      <td>234</td>\n",
       "      <td>234</td>\n",
       "      <td>234</td>\n",
       "      <td>234</td>\n",
       "      <td>237</td>\n",
       "      <td>240</td>\n",
       "      <td>239</td>\n",
       "      <td>...</td>\n",
       "      <td>235</td>\n",
       "      <td>234</td>\n",
       "      <td>233</td>\n",
       "      <td>232</td>\n",
       "      <td>234</td>\n",
       "      <td>234</td>\n",
       "      <td>234</td>\n",
       "      <td>234</td>\n",
       "      <td>234</td>\n",
       "      <td>234</td>\n",
       "    </tr>\n",
       "    <tr>\n",
       "      <th>4</th>\n",
       "      <td>4</td>\n",
       "      <td>247</td>\n",
       "      <td>247</td>\n",
       "      <td>247</td>\n",
       "      <td>247</td>\n",
       "      <td>247</td>\n",
       "      <td>247</td>\n",
       "      <td>246</td>\n",
       "      <td>245</td>\n",
       "      <td>247</td>\n",
       "      <td>...</td>\n",
       "      <td>229</td>\n",
       "      <td>229</td>\n",
       "      <td>229</td>\n",
       "      <td>228</td>\n",
       "      <td>229</td>\n",
       "      <td>225</td>\n",
       "      <td>222</td>\n",
       "      <td>224</td>\n",
       "      <td>224</td>\n",
       "      <td>226</td>\n",
       "    </tr>\n",
       "  </tbody>\n",
       "</table>\n",
       "<p>5 rows × 18401 columns</p>\n",
       "</div>"
      ],
      "text/plain": [
       "   Unnamed: 0    0    1    2    3    4    5    6    7    8  ...    18390  \\\n",
       "0           0  244  242  241  245  247  247  247  245  247  ...      230   \n",
       "1           1  234  234  234  234  232  233  234  235  235  ...      239   \n",
       "2           2  226  234  229  227  227  228  225  228  226  ...      238   \n",
       "3           3  234  234  234  234  234  234  237  240  239  ...      235   \n",
       "4           4  247  247  247  247  247  247  246  245  247  ...      229   \n",
       "\n",
       "   18391  18392  18393  18394  18395  18396  18397  18398  18399  \n",
       "0    230    228    225    224    222    222    229    224    218  \n",
       "1    240    240    237    241    236    237    234    234    234  \n",
       "2    238    236    237    238    239    238    237    238    239  \n",
       "3    234    233    232    234    234    234    234    234    234  \n",
       "4    229    229    228    229    225    222    224    224    226  \n",
       "\n",
       "[5 rows x 18401 columns]"
      ]
     },
     "execution_count": 6,
     "metadata": {
      "tags": []
     },
     "output_type": "execute_result"
    }
   ],
   "source": [
    "X.head()"
   ]
  },
  {
   "cell_type": "code",
   "execution_count": 0,
   "metadata": {
    "colab": {
     "base_uri": "https://localhost:8080/",
     "height": 204
    },
    "colab_type": "code",
    "executionInfo": {
     "elapsed": 605,
     "status": "ok",
     "timestamp": 1544436662588,
     "user": {
      "displayName": "Alperen Taşkın",
      "photoUrl": "https://lh3.googleusercontent.com/-DRYpxJPI8_I/AAAAAAAAAAI/AAAAAAAAAMg/o7BBD-G7ixQ/s64/photo.jpg",
      "userId": "04327173820284993211"
     },
     "user_tz": -180
    },
    "id": "rw8QPDVd7EFE",
    "outputId": "0b0f7fc0-2e65-44b8-cfd9-384e8a39f0ab"
   },
   "outputs": [
    {
     "data": {
      "text/html": [
       "<div>\n",
       "<style scoped>\n",
       "    .dataframe tbody tr th:only-of-type {\n",
       "        vertical-align: middle;\n",
       "    }\n",
       "\n",
       "    .dataframe tbody tr th {\n",
       "        vertical-align: top;\n",
       "    }\n",
       "\n",
       "    .dataframe thead th {\n",
       "        text-align: right;\n",
       "    }\n",
       "</style>\n",
       "<table border=\"1\" class=\"dataframe\">\n",
       "  <thead>\n",
       "    <tr style=\"text-align: right;\">\n",
       "      <th></th>\n",
       "      <th>Unnamed: 0</th>\n",
       "      <th>0</th>\n",
       "    </tr>\n",
       "  </thead>\n",
       "  <tbody>\n",
       "    <tr>\n",
       "      <th>0</th>\n",
       "      <td>0</td>\n",
       "      <td>0</td>\n",
       "    </tr>\n",
       "    <tr>\n",
       "      <th>1</th>\n",
       "      <td>1</td>\n",
       "      <td>0</td>\n",
       "    </tr>\n",
       "    <tr>\n",
       "      <th>2</th>\n",
       "      <td>2</td>\n",
       "      <td>0</td>\n",
       "    </tr>\n",
       "    <tr>\n",
       "      <th>3</th>\n",
       "      <td>3</td>\n",
       "      <td>0</td>\n",
       "    </tr>\n",
       "    <tr>\n",
       "      <th>4</th>\n",
       "      <td>4</td>\n",
       "      <td>0</td>\n",
       "    </tr>\n",
       "  </tbody>\n",
       "</table>\n",
       "</div>"
      ],
      "text/plain": [
       "   Unnamed: 0  0\n",
       "0           0  0\n",
       "1           1  0\n",
       "2           2  0\n",
       "3           3  0\n",
       "4           4  0"
      ]
     },
     "execution_count": 7,
     "metadata": {
      "tags": []
     },
     "output_type": "execute_result"
    }
   ],
   "source": [
    "y.head()"
   ]
  },
  {
   "cell_type": "markdown",
   "metadata": {
    "colab_type": "text",
    "id": "bhKldG-07EFI"
   },
   "source": [
    "## Unnamed: 0 Sütununlarını Atıyoruz"
   ]
  },
  {
   "cell_type": "code",
   "execution_count": 0,
   "metadata": {
    "colab": {},
    "colab_type": "code",
    "id": "pM2Q4mIQ7EFK"
   },
   "outputs": [],
   "source": [
    "X = X.drop(columns=['Unnamed: 0'])\n",
    "y = y.drop(columns=['Unnamed: 0'])"
   ]
  },
  {
   "cell_type": "code",
   "execution_count": 0,
   "metadata": {
    "colab": {
     "base_uri": "https://localhost:8080/",
     "height": 233
    },
    "colab_type": "code",
    "executionInfo": {
     "elapsed": 496,
     "status": "ok",
     "timestamp": 1544436666441,
     "user": {
      "displayName": "Alperen Taşkın",
      "photoUrl": "https://lh3.googleusercontent.com/-DRYpxJPI8_I/AAAAAAAAAAI/AAAAAAAAAMg/o7BBD-G7ixQ/s64/photo.jpg",
      "userId": "04327173820284993211"
     },
     "user_tz": -180
    },
    "id": "9RzHwgwn7EFM",
    "outputId": "9d4c610c-6d4a-451a-9799-c9aa72bc4b3b"
   },
   "outputs": [
    {
     "data": {
      "text/html": [
       "<div>\n",
       "<style scoped>\n",
       "    .dataframe tbody tr th:only-of-type {\n",
       "        vertical-align: middle;\n",
       "    }\n",
       "\n",
       "    .dataframe tbody tr th {\n",
       "        vertical-align: top;\n",
       "    }\n",
       "\n",
       "    .dataframe thead th {\n",
       "        text-align: right;\n",
       "    }\n",
       "</style>\n",
       "<table border=\"1\" class=\"dataframe\">\n",
       "  <thead>\n",
       "    <tr style=\"text-align: right;\">\n",
       "      <th></th>\n",
       "      <th>0</th>\n",
       "      <th>1</th>\n",
       "      <th>2</th>\n",
       "      <th>3</th>\n",
       "      <th>4</th>\n",
       "      <th>5</th>\n",
       "      <th>6</th>\n",
       "      <th>7</th>\n",
       "      <th>8</th>\n",
       "      <th>9</th>\n",
       "      <th>...</th>\n",
       "      <th>18390</th>\n",
       "      <th>18391</th>\n",
       "      <th>18392</th>\n",
       "      <th>18393</th>\n",
       "      <th>18394</th>\n",
       "      <th>18395</th>\n",
       "      <th>18396</th>\n",
       "      <th>18397</th>\n",
       "      <th>18398</th>\n",
       "      <th>18399</th>\n",
       "    </tr>\n",
       "  </thead>\n",
       "  <tbody>\n",
       "    <tr>\n",
       "      <th>0</th>\n",
       "      <td>244</td>\n",
       "      <td>242</td>\n",
       "      <td>241</td>\n",
       "      <td>245</td>\n",
       "      <td>247</td>\n",
       "      <td>247</td>\n",
       "      <td>247</td>\n",
       "      <td>245</td>\n",
       "      <td>247</td>\n",
       "      <td>247</td>\n",
       "      <td>...</td>\n",
       "      <td>230</td>\n",
       "      <td>230</td>\n",
       "      <td>228</td>\n",
       "      <td>225</td>\n",
       "      <td>224</td>\n",
       "      <td>222</td>\n",
       "      <td>222</td>\n",
       "      <td>229</td>\n",
       "      <td>224</td>\n",
       "      <td>218</td>\n",
       "    </tr>\n",
       "    <tr>\n",
       "      <th>1</th>\n",
       "      <td>234</td>\n",
       "      <td>234</td>\n",
       "      <td>234</td>\n",
       "      <td>234</td>\n",
       "      <td>232</td>\n",
       "      <td>233</td>\n",
       "      <td>234</td>\n",
       "      <td>235</td>\n",
       "      <td>235</td>\n",
       "      <td>237</td>\n",
       "      <td>...</td>\n",
       "      <td>239</td>\n",
       "      <td>240</td>\n",
       "      <td>240</td>\n",
       "      <td>237</td>\n",
       "      <td>241</td>\n",
       "      <td>236</td>\n",
       "      <td>237</td>\n",
       "      <td>234</td>\n",
       "      <td>234</td>\n",
       "      <td>234</td>\n",
       "    </tr>\n",
       "    <tr>\n",
       "      <th>2</th>\n",
       "      <td>226</td>\n",
       "      <td>234</td>\n",
       "      <td>229</td>\n",
       "      <td>227</td>\n",
       "      <td>227</td>\n",
       "      <td>228</td>\n",
       "      <td>225</td>\n",
       "      <td>228</td>\n",
       "      <td>226</td>\n",
       "      <td>230</td>\n",
       "      <td>...</td>\n",
       "      <td>238</td>\n",
       "      <td>238</td>\n",
       "      <td>236</td>\n",
       "      <td>237</td>\n",
       "      <td>238</td>\n",
       "      <td>239</td>\n",
       "      <td>238</td>\n",
       "      <td>237</td>\n",
       "      <td>238</td>\n",
       "      <td>239</td>\n",
       "    </tr>\n",
       "    <tr>\n",
       "      <th>3</th>\n",
       "      <td>234</td>\n",
       "      <td>234</td>\n",
       "      <td>234</td>\n",
       "      <td>234</td>\n",
       "      <td>234</td>\n",
       "      <td>234</td>\n",
       "      <td>237</td>\n",
       "      <td>240</td>\n",
       "      <td>239</td>\n",
       "      <td>240</td>\n",
       "      <td>...</td>\n",
       "      <td>235</td>\n",
       "      <td>234</td>\n",
       "      <td>233</td>\n",
       "      <td>232</td>\n",
       "      <td>234</td>\n",
       "      <td>234</td>\n",
       "      <td>234</td>\n",
       "      <td>234</td>\n",
       "      <td>234</td>\n",
       "      <td>234</td>\n",
       "    </tr>\n",
       "    <tr>\n",
       "      <th>4</th>\n",
       "      <td>247</td>\n",
       "      <td>247</td>\n",
       "      <td>247</td>\n",
       "      <td>247</td>\n",
       "      <td>247</td>\n",
       "      <td>247</td>\n",
       "      <td>246</td>\n",
       "      <td>245</td>\n",
       "      <td>247</td>\n",
       "      <td>246</td>\n",
       "      <td>...</td>\n",
       "      <td>229</td>\n",
       "      <td>229</td>\n",
       "      <td>229</td>\n",
       "      <td>228</td>\n",
       "      <td>229</td>\n",
       "      <td>225</td>\n",
       "      <td>222</td>\n",
       "      <td>224</td>\n",
       "      <td>224</td>\n",
       "      <td>226</td>\n",
       "    </tr>\n",
       "  </tbody>\n",
       "</table>\n",
       "<p>5 rows × 18400 columns</p>\n",
       "</div>"
      ],
      "text/plain": [
       "     0    1    2    3    4    5    6    7    8    9  ...    18390  18391  \\\n",
       "0  244  242  241  245  247  247  247  245  247  247  ...      230    230   \n",
       "1  234  234  234  234  232  233  234  235  235  237  ...      239    240   \n",
       "2  226  234  229  227  227  228  225  228  226  230  ...      238    238   \n",
       "3  234  234  234  234  234  234  237  240  239  240  ...      235    234   \n",
       "4  247  247  247  247  247  247  246  245  247  246  ...      229    229   \n",
       "\n",
       "   18392  18393  18394  18395  18396  18397  18398  18399  \n",
       "0    228    225    224    222    222    229    224    218  \n",
       "1    240    237    241    236    237    234    234    234  \n",
       "2    236    237    238    239    238    237    238    239  \n",
       "3    233    232    234    234    234    234    234    234  \n",
       "4    229    228    229    225    222    224    224    226  \n",
       "\n",
       "[5 rows x 18400 columns]"
      ]
     },
     "execution_count": 9,
     "metadata": {
      "tags": []
     },
     "output_type": "execute_result"
    }
   ],
   "source": [
    "X.head()"
   ]
  },
  {
   "cell_type": "code",
   "execution_count": 0,
   "metadata": {
    "colab": {
     "base_uri": "https://localhost:8080/",
     "height": 204
    },
    "colab_type": "code",
    "executionInfo": {
     "elapsed": 798,
     "status": "ok",
     "timestamp": 1544436670044,
     "user": {
      "displayName": "Alperen Taşkın",
      "photoUrl": "https://lh3.googleusercontent.com/-DRYpxJPI8_I/AAAAAAAAAAI/AAAAAAAAAMg/o7BBD-G7ixQ/s64/photo.jpg",
      "userId": "04327173820284993211"
     },
     "user_tz": -180
    },
    "id": "ZmMIYfjy7EFP",
    "outputId": "d4fe091b-410e-4d15-85ff-cf3262a098f0"
   },
   "outputs": [
    {
     "data": {
      "text/html": [
       "<div>\n",
       "<style scoped>\n",
       "    .dataframe tbody tr th:only-of-type {\n",
       "        vertical-align: middle;\n",
       "    }\n",
       "\n",
       "    .dataframe tbody tr th {\n",
       "        vertical-align: top;\n",
       "    }\n",
       "\n",
       "    .dataframe thead th {\n",
       "        text-align: right;\n",
       "    }\n",
       "</style>\n",
       "<table border=\"1\" class=\"dataframe\">\n",
       "  <thead>\n",
       "    <tr style=\"text-align: right;\">\n",
       "      <th></th>\n",
       "      <th>0</th>\n",
       "    </tr>\n",
       "  </thead>\n",
       "  <tbody>\n",
       "    <tr>\n",
       "      <th>0</th>\n",
       "      <td>0</td>\n",
       "    </tr>\n",
       "    <tr>\n",
       "      <th>1</th>\n",
       "      <td>0</td>\n",
       "    </tr>\n",
       "    <tr>\n",
       "      <th>2</th>\n",
       "      <td>0</td>\n",
       "    </tr>\n",
       "    <tr>\n",
       "      <th>3</th>\n",
       "      <td>0</td>\n",
       "    </tr>\n",
       "    <tr>\n",
       "      <th>4</th>\n",
       "      <td>0</td>\n",
       "    </tr>\n",
       "  </tbody>\n",
       "</table>\n",
       "</div>"
      ],
      "text/plain": [
       "   0\n",
       "0  0\n",
       "1  0\n",
       "2  0\n",
       "3  0\n",
       "4  0"
      ]
     },
     "execution_count": 10,
     "metadata": {
      "tags": []
     },
     "output_type": "execute_result"
    }
   ],
   "source": [
    "y.head()"
   ]
  },
  {
   "cell_type": "markdown",
   "metadata": {
    "colab_type": "text",
    "id": "Y8rl36Zg7EFT"
   },
   "source": [
    "## Model Eğitimin Hızlı Gerçekleşmesi İçin Normalization Yapıyoruz"
   ]
  },
  {
   "cell_type": "code",
   "execution_count": 0,
   "metadata": {
    "colab": {},
    "colab_type": "code",
    "id": "zSKwl7qD7EFT"
   },
   "outputs": [],
   "source": [
    "# Normalization\n",
    "X = X / 255.0"
   ]
  },
  {
   "cell_type": "code",
   "execution_count": 0,
   "metadata": {
    "colab": {
     "base_uri": "https://localhost:8080/",
     "height": 233
    },
    "colab_type": "code",
    "executionInfo": {
     "elapsed": 1002,
     "status": "ok",
     "timestamp": 1544436674787,
     "user": {
      "displayName": "Alperen Taşkın",
      "photoUrl": "https://lh3.googleusercontent.com/-DRYpxJPI8_I/AAAAAAAAAAI/AAAAAAAAAMg/o7BBD-G7ixQ/s64/photo.jpg",
      "userId": "04327173820284993211"
     },
     "user_tz": -180
    },
    "id": "9YKGO68_7EFW",
    "outputId": "202679d9-9a7b-48fa-ecfe-6d3b92c8c38b"
   },
   "outputs": [
    {
     "data": {
      "text/html": [
       "<div>\n",
       "<style scoped>\n",
       "    .dataframe tbody tr th:only-of-type {\n",
       "        vertical-align: middle;\n",
       "    }\n",
       "\n",
       "    .dataframe tbody tr th {\n",
       "        vertical-align: top;\n",
       "    }\n",
       "\n",
       "    .dataframe thead th {\n",
       "        text-align: right;\n",
       "    }\n",
       "</style>\n",
       "<table border=\"1\" class=\"dataframe\">\n",
       "  <thead>\n",
       "    <tr style=\"text-align: right;\">\n",
       "      <th></th>\n",
       "      <th>0</th>\n",
       "      <th>1</th>\n",
       "      <th>2</th>\n",
       "      <th>3</th>\n",
       "      <th>4</th>\n",
       "      <th>5</th>\n",
       "      <th>6</th>\n",
       "      <th>7</th>\n",
       "      <th>8</th>\n",
       "      <th>9</th>\n",
       "      <th>...</th>\n",
       "      <th>18390</th>\n",
       "      <th>18391</th>\n",
       "      <th>18392</th>\n",
       "      <th>18393</th>\n",
       "      <th>18394</th>\n",
       "      <th>18395</th>\n",
       "      <th>18396</th>\n",
       "      <th>18397</th>\n",
       "      <th>18398</th>\n",
       "      <th>18399</th>\n",
       "    </tr>\n",
       "  </thead>\n",
       "  <tbody>\n",
       "    <tr>\n",
       "      <th>0</th>\n",
       "      <td>0.956863</td>\n",
       "      <td>0.949020</td>\n",
       "      <td>0.945098</td>\n",
       "      <td>0.960784</td>\n",
       "      <td>0.968627</td>\n",
       "      <td>0.968627</td>\n",
       "      <td>0.968627</td>\n",
       "      <td>0.960784</td>\n",
       "      <td>0.968627</td>\n",
       "      <td>0.968627</td>\n",
       "      <td>...</td>\n",
       "      <td>0.901961</td>\n",
       "      <td>0.901961</td>\n",
       "      <td>0.894118</td>\n",
       "      <td>0.882353</td>\n",
       "      <td>0.878431</td>\n",
       "      <td>0.870588</td>\n",
       "      <td>0.870588</td>\n",
       "      <td>0.898039</td>\n",
       "      <td>0.878431</td>\n",
       "      <td>0.854902</td>\n",
       "    </tr>\n",
       "    <tr>\n",
       "      <th>1</th>\n",
       "      <td>0.917647</td>\n",
       "      <td>0.917647</td>\n",
       "      <td>0.917647</td>\n",
       "      <td>0.917647</td>\n",
       "      <td>0.909804</td>\n",
       "      <td>0.913725</td>\n",
       "      <td>0.917647</td>\n",
       "      <td>0.921569</td>\n",
       "      <td>0.921569</td>\n",
       "      <td>0.929412</td>\n",
       "      <td>...</td>\n",
       "      <td>0.937255</td>\n",
       "      <td>0.941176</td>\n",
       "      <td>0.941176</td>\n",
       "      <td>0.929412</td>\n",
       "      <td>0.945098</td>\n",
       "      <td>0.925490</td>\n",
       "      <td>0.929412</td>\n",
       "      <td>0.917647</td>\n",
       "      <td>0.917647</td>\n",
       "      <td>0.917647</td>\n",
       "    </tr>\n",
       "    <tr>\n",
       "      <th>2</th>\n",
       "      <td>0.886275</td>\n",
       "      <td>0.917647</td>\n",
       "      <td>0.898039</td>\n",
       "      <td>0.890196</td>\n",
       "      <td>0.890196</td>\n",
       "      <td>0.894118</td>\n",
       "      <td>0.882353</td>\n",
       "      <td>0.894118</td>\n",
       "      <td>0.886275</td>\n",
       "      <td>0.901961</td>\n",
       "      <td>...</td>\n",
       "      <td>0.933333</td>\n",
       "      <td>0.933333</td>\n",
       "      <td>0.925490</td>\n",
       "      <td>0.929412</td>\n",
       "      <td>0.933333</td>\n",
       "      <td>0.937255</td>\n",
       "      <td>0.933333</td>\n",
       "      <td>0.929412</td>\n",
       "      <td>0.933333</td>\n",
       "      <td>0.937255</td>\n",
       "    </tr>\n",
       "    <tr>\n",
       "      <th>3</th>\n",
       "      <td>0.917647</td>\n",
       "      <td>0.917647</td>\n",
       "      <td>0.917647</td>\n",
       "      <td>0.917647</td>\n",
       "      <td>0.917647</td>\n",
       "      <td>0.917647</td>\n",
       "      <td>0.929412</td>\n",
       "      <td>0.941176</td>\n",
       "      <td>0.937255</td>\n",
       "      <td>0.941176</td>\n",
       "      <td>...</td>\n",
       "      <td>0.921569</td>\n",
       "      <td>0.917647</td>\n",
       "      <td>0.913725</td>\n",
       "      <td>0.909804</td>\n",
       "      <td>0.917647</td>\n",
       "      <td>0.917647</td>\n",
       "      <td>0.917647</td>\n",
       "      <td>0.917647</td>\n",
       "      <td>0.917647</td>\n",
       "      <td>0.917647</td>\n",
       "    </tr>\n",
       "    <tr>\n",
       "      <th>4</th>\n",
       "      <td>0.968627</td>\n",
       "      <td>0.968627</td>\n",
       "      <td>0.968627</td>\n",
       "      <td>0.968627</td>\n",
       "      <td>0.968627</td>\n",
       "      <td>0.968627</td>\n",
       "      <td>0.964706</td>\n",
       "      <td>0.960784</td>\n",
       "      <td>0.968627</td>\n",
       "      <td>0.964706</td>\n",
       "      <td>...</td>\n",
       "      <td>0.898039</td>\n",
       "      <td>0.898039</td>\n",
       "      <td>0.898039</td>\n",
       "      <td>0.894118</td>\n",
       "      <td>0.898039</td>\n",
       "      <td>0.882353</td>\n",
       "      <td>0.870588</td>\n",
       "      <td>0.878431</td>\n",
       "      <td>0.878431</td>\n",
       "      <td>0.886275</td>\n",
       "    </tr>\n",
       "  </tbody>\n",
       "</table>\n",
       "<p>5 rows × 18400 columns</p>\n",
       "</div>"
      ],
      "text/plain": [
       "          0         1         2         3         4         5         6  \\\n",
       "0  0.956863  0.949020  0.945098  0.960784  0.968627  0.968627  0.968627   \n",
       "1  0.917647  0.917647  0.917647  0.917647  0.909804  0.913725  0.917647   \n",
       "2  0.886275  0.917647  0.898039  0.890196  0.890196  0.894118  0.882353   \n",
       "3  0.917647  0.917647  0.917647  0.917647  0.917647  0.917647  0.929412   \n",
       "4  0.968627  0.968627  0.968627  0.968627  0.968627  0.968627  0.964706   \n",
       "\n",
       "          7         8         9    ...        18390     18391     18392  \\\n",
       "0  0.960784  0.968627  0.968627    ...     0.901961  0.901961  0.894118   \n",
       "1  0.921569  0.921569  0.929412    ...     0.937255  0.941176  0.941176   \n",
       "2  0.894118  0.886275  0.901961    ...     0.933333  0.933333  0.925490   \n",
       "3  0.941176  0.937255  0.941176    ...     0.921569  0.917647  0.913725   \n",
       "4  0.960784  0.968627  0.964706    ...     0.898039  0.898039  0.898039   \n",
       "\n",
       "      18393     18394     18395     18396     18397     18398     18399  \n",
       "0  0.882353  0.878431  0.870588  0.870588  0.898039  0.878431  0.854902  \n",
       "1  0.929412  0.945098  0.925490  0.929412  0.917647  0.917647  0.917647  \n",
       "2  0.929412  0.933333  0.937255  0.933333  0.929412  0.933333  0.937255  \n",
       "3  0.909804  0.917647  0.917647  0.917647  0.917647  0.917647  0.917647  \n",
       "4  0.894118  0.898039  0.882353  0.870588  0.878431  0.878431  0.886275  \n",
       "\n",
       "[5 rows x 18400 columns]"
      ]
     },
     "execution_count": 12,
     "metadata": {
      "tags": []
     },
     "output_type": "execute_result"
    }
   ],
   "source": [
    "X.head()"
   ]
  },
  {
   "cell_type": "code",
   "execution_count": 0,
   "metadata": {
    "colab": {
     "base_uri": "https://localhost:8080/",
     "height": 34
    },
    "colab_type": "code",
    "executionInfo": {
     "elapsed": 3061,
     "status": "ok",
     "timestamp": 1544436899936,
     "user": {
      "displayName": "Alperen Taşkın",
      "photoUrl": "https://lh3.googleusercontent.com/-DRYpxJPI8_I/AAAAAAAAAAI/AAAAAAAAAMg/o7BBD-G7ixQ/s64/photo.jpg",
      "userId": "04327173820284993211"
     },
     "user_tz": -180
    },
    "id": "nzntZvVj7EFZ",
    "outputId": "c5e8e711-a24e-4781-efc5-363716081d21"
   },
   "outputs": [
    {
     "name": "stderr",
     "output_type": "stream",
     "text": [
      "Using TensorFlow backend.\n"
     ]
    }
   ],
   "source": [
    "from sklearn.metrics import confusion_matrix\n",
    "import itertools\n",
    "\n",
    "from keras.utils.np_utils import to_categorical # convert to one-hot-encoding\n",
    "from keras.models import Sequential\n",
    "from keras.layers import Dense, Dropout, Flatten, Conv2D, MaxPool2D\n",
    "from keras.optimizers import RMSprop\n",
    "#from keras.preprocessing.image import ImageDataGenerator\n",
    "from keras.callbacks import ReduceLROnPlateau\n",
    "\n",
    "# kutuphane guncellemeleriyle alakali uyarilari gormemek icin kullaniyoruz\n",
    "import warnings\n",
    "warnings.filterwarnings(\"ignore\")"
   ]
  },
  {
   "cell_type": "markdown",
   "metadata": {
    "colab_type": "text",
    "id": "V9yr2b2h7EFd"
   },
   "source": [
    "## One-Hot-Encoding Yapıyoruz"
   ]
  },
  {
   "cell_type": "code",
   "execution_count": 0,
   "metadata": {
    "colab": {},
    "colab_type": "code",
    "id": "w-tXbCM77EFe"
   },
   "outputs": [],
   "source": [
    "y = to_categorical(y, num_classes = 12)"
   ]
  },
  {
   "cell_type": "code",
   "execution_count": 0,
   "metadata": {
    "colab": {
     "base_uri": "https://localhost:8080/",
     "height": 136
    },
    "colab_type": "code",
    "executionInfo": {
     "elapsed": 601,
     "status": "ok",
     "timestamp": 1544436909679,
     "user": {
      "displayName": "Alperen Taşkın",
      "photoUrl": "https://lh3.googleusercontent.com/-DRYpxJPI8_I/AAAAAAAAAAI/AAAAAAAAAMg/o7BBD-G7ixQ/s64/photo.jpg",
      "userId": "04327173820284993211"
     },
     "user_tz": -180
    },
    "id": "uV8sQNmf7EFg",
    "outputId": "56f6faf8-d6d5-4296-ff64-60baf448da35"
   },
   "outputs": [
    {
     "data": {
      "text/plain": [
       "array([[1., 0., 0., ..., 0., 0., 0.],\n",
       "       [1., 0., 0., ..., 0., 0., 0.],\n",
       "       [1., 0., 0., ..., 0., 0., 0.],\n",
       "       ...,\n",
       "       [0., 0., 0., ..., 0., 0., 1.],\n",
       "       [0., 0., 0., ..., 0., 0., 1.],\n",
       "       [0., 0., 0., ..., 0., 0., 1.]], dtype=float32)"
      ]
     },
     "execution_count": 15,
     "metadata": {
      "tags": []
     },
     "output_type": "execute_result"
    }
   ],
   "source": [
    "y"
   ]
  },
  {
   "cell_type": "markdown",
   "metadata": {
    "colab_type": "text",
    "id": "kHAF_sa37EFj"
   },
   "source": [
    "## Elimizdeki Veriyi Train ve Test Olarak 2'ye Ayırıyoruz"
   ]
  },
  {
   "cell_type": "code",
   "execution_count": 0,
   "metadata": {
    "colab": {},
    "colab_type": "code",
    "id": "QUDVt5lm7EFk"
   },
   "outputs": [],
   "source": [
    "from sklearn.cross_validation import train_test_split\n",
    "X_train, X_test, y_train, y_test = train_test_split(X,y, test_size = 0.3, random_state = 0)"
   ]
  },
  {
   "cell_type": "code",
   "execution_count": 0,
   "metadata": {
    "colab": {},
    "colab_type": "code",
    "id": "76j7hadj7EFo"
   },
   "outputs": [],
   "source": [
    "# reshape metodunu kullanabilmemiz icin numpy array'ine ceviriyoruz\n",
    "X_train = np.array(X_train)\n",
    "X_test = np.array(X_test)\n",
    "\n",
    "# keras modeline 4 boyutlu matris kabul ediyor\n",
    "X_train = np.reshape(X_train,(-1,92,200,1))\n",
    "X_test = np.reshape(X_test,(-1,92,200,1))"
   ]
  },
  {
   "cell_type": "markdown",
   "metadata": {
    "colab_type": "text",
    "id": "KNZ3OOk77EFu"
   },
   "source": [
    "## Modeli Oluşturuyoruz"
   ]
  },
  {
   "cell_type": "code",
   "execution_count": 0,
   "metadata": {
    "colab": {
     "base_uri": "https://localhost:8080/",
     "height": 544
    },
    "colab_type": "code",
    "executionInfo": {
     "elapsed": 908,
     "status": "ok",
     "timestamp": 1544437571258,
     "user": {
      "displayName": "Alperen Taşkın",
      "photoUrl": "https://lh3.googleusercontent.com/-DRYpxJPI8_I/AAAAAAAAAAI/AAAAAAAAAMg/o7BBD-G7ixQ/s64/photo.jpg",
      "userId": "04327173820284993211"
     },
     "user_tz": -180
    },
    "id": "QYefmoVT7EFu",
    "outputId": "c2c209d9-b3e2-47de-d146-4e73098d6e53"
   },
   "outputs": [
    {
     "name": "stdout",
     "output_type": "stream",
     "text": [
      "_________________________________________________________________\n",
      "Layer (type)                 Output Shape              Param #   \n",
      "=================================================================\n",
      "conv2d_1 (Conv2D)            (None, 92, 200, 32)       320       \n",
      "_________________________________________________________________\n",
      "conv2d_2 (Conv2D)            (None, 92, 200, 32)       9248      \n",
      "_________________________________________________________________\n",
      "max_pooling2d_1 (MaxPooling2 (None, 23, 50, 32)        0         \n",
      "_________________________________________________________________\n",
      "dropout_1 (Dropout)          (None, 23, 50, 32)        0         \n",
      "_________________________________________________________________\n",
      "conv2d_3 (Conv2D)            (None, 23, 50, 64)        51264     \n",
      "_________________________________________________________________\n",
      "max_pooling2d_2 (MaxPooling2 (None, 7, 16, 64)         0         \n",
      "_________________________________________________________________\n",
      "dropout_2 (Dropout)          (None, 7, 16, 64)         0         \n",
      "_________________________________________________________________\n",
      "flatten_1 (Flatten)          (None, 7168)              0         \n",
      "_________________________________________________________________\n",
      "dense_1 (Dense)              (None, 256)               1835264   \n",
      "_________________________________________________________________\n",
      "dropout_3 (Dropout)          (None, 256)               0         \n",
      "_________________________________________________________________\n",
      "dense_2 (Dense)              (None, 64)                16448     \n",
      "_________________________________________________________________\n",
      "dense_3 (Dense)              (None, 12)                780       \n",
      "=================================================================\n",
      "Total params: 1,913,324\n",
      "Trainable params: 1,913,324\n",
      "Non-trainable params: 0\n",
      "_________________________________________________________________\n"
     ]
    }
   ],
   "source": [
    "# model olusturma kismi\n",
    "model = Sequential()\n",
    "\n",
    "# 32 filtre 3,3 matris kontrol ediyor. Aktivasyon fonksiyonu relu\n",
    "# 92,200,1 grayscale oldugu icin 1\n",
    "# padding = 'Same' -> bunun sayesinde sıfır doldurma yapmis oluyoruz \n",
    "# Bu sayede katmanlardaki kuculmeyi engelleyerek veri kaybini onluyoruz\n",
    "model.add(Conv2D(filters = 32, kernel_size = (3,3),padding = 'Same', \n",
    "                 activation ='relu', input_shape = (92,200,1)))\n",
    "\n",
    "model.add(Conv2D(filters = 32, kernel_size = (3,3),padding = 'Same', \n",
    "                 activation ='relu'))\n",
    "\n",
    "# 4,4 maksimum havuzlama\n",
    "model.add(MaxPool2D(pool_size=(4,4)))\n",
    "\n",
    "# olusan node'ların %20 sini kullanma\n",
    "model.add(Dropout(0.20))\n",
    "\n",
    "model.add(Conv2D(filters = 64, kernel_size = (5,5),padding = 'Same', \n",
    "                 activation ='relu'))\n",
    "\n",
    "model.add(MaxPool2D(pool_size=(3,3), strides=(3,3)))\n",
    "model.add(Dropout(0.20))\n",
    "\n",
    "# duzlestirme yapiyoruz\n",
    "model.add(Flatten())\n",
    "\n",
    "# hidden layer 1\n",
    "model.add(Dense(256, activation = \"relu\"))\n",
    "model.add(Dropout(0.5))\n",
    "\n",
    "# hidden layer 2\n",
    "model.add(Dense(64, activation = \"relu\"))\n",
    "\n",
    "# sigmoid binary icin, softmax coklu kume icin kullanılıyor\n",
    "# 12 node'lu cikti katmani\n",
    "model.add(Dense(12, activation = \"softmax\"))\n",
    "\n",
    "# RMSprop ogrenme oranindaki hizli dususu onler. (Root Mean Square Error Probability) \n",
    "optimizer = RMSprop(lr=0.001, rho=0.9, epsilon=1e-08, decay=0.0)\n",
    "\n",
    "# coklu siniflandirmada loss degerini olcmek icin categorical_crossentropy fonksiyonu kullaniliyormus\n",
    "model.compile(optimizer = optimizer , loss = \"categorical_crossentropy\", metrics=[\"accuracy\"])\n",
    "model.summary()"
   ]
  },
  {
   "cell_type": "code",
   "execution_count": 0,
   "metadata": {
    "colab": {},
    "colab_type": "code",
    "id": "aFKTYH4B7EF0"
   },
   "outputs": [],
   "source": [
    "# ogrenmenin ilerlemesi durdugunda veya azaldiginda learning rate'i dusurmek icin kullanilir\n",
    "learning_rate_reduction = ReduceLROnPlateau(monitor='val_acc', \n",
    "                                            patience=1, \n",
    "                                            verbose=1, \n",
    "                                            factor=0.5, \n",
    "                                            min_lr=0.00001)"
   ]
  },
  {
   "cell_type": "markdown",
   "metadata": {
    "colab_type": "text",
    "id": "iN1KOD9b7EF2"
   },
   "source": [
    "## Oluşturduğumuz Modele Verileri Vererek Eğitiyoruz"
   ]
  },
  {
   "cell_type": "code",
   "execution_count": 0,
   "metadata": {
    "colab": {
     "base_uri": "https://localhost:8080/",
     "height": 544
    },
    "colab_type": "code",
    "executionInfo": {
     "elapsed": 56914,
     "status": "ok",
     "timestamp": 1544437633929,
     "user": {
      "displayName": "Alperen Taşkın",
      "photoUrl": "https://lh3.googleusercontent.com/-DRYpxJPI8_I/AAAAAAAAAAI/AAAAAAAAAMg/o7BBD-G7ixQ/s64/photo.jpg",
      "userId": "04327173820284993211"
     },
     "user_tz": -180
    },
    "id": "GsoBeR5K7EF3",
    "outputId": "465a5884-f9f2-4f11-8d0f-881f71d8ad0a"
   },
   "outputs": [
    {
     "name": "stdout",
     "output_type": "stream",
     "text": [
      "Train on 1680 samples, validate on 720 samples\n",
      "Epoch 1/12\n",
      "1680/1680 [==============================] - 5s 3ms/step - loss: 2.5121 - acc: 0.0810 - val_loss: 2.4835 - val_acc: 0.0833\n",
      "Epoch 2/12\n",
      "1680/1680 [==============================] - 5s 3ms/step - loss: 2.2587 - acc: 0.1780 - val_loss: 1.9161 - val_acc: 0.2847\n",
      "Epoch 3/12\n",
      "1680/1680 [==============================] - 4s 3ms/step - loss: 1.6559 - acc: 0.3619 - val_loss: 1.4689 - val_acc: 0.4236\n",
      "Epoch 4/12\n",
      "1680/1680 [==============================] - 4s 3ms/step - loss: 1.3488 - acc: 0.4815 - val_loss: 0.9274 - val_acc: 0.7417\n",
      "Epoch 5/12\n",
      "1680/1680 [==============================] - 5s 3ms/step - loss: 1.0162 - acc: 0.5905 - val_loss: 0.9704 - val_acc: 0.5875\n",
      "\n",
      "Epoch 00005: ReduceLROnPlateau reducing learning rate to 0.0005000000237487257.\n",
      "Epoch 6/12\n",
      "1680/1680 [==============================] - 5s 3ms/step - loss: 0.6379 - acc: 0.7554 - val_loss: 0.3891 - val_acc: 0.8958\n",
      "Epoch 7/12\n",
      "1680/1680 [==============================] - 5s 3ms/step - loss: 0.4835 - acc: 0.8274 - val_loss: 0.1954 - val_acc: 0.9819\n",
      "Epoch 8/12\n",
      "1680/1680 [==============================] - 5s 3ms/step - loss: 0.3549 - acc: 0.8804 - val_loss: 0.1350 - val_acc: 0.9903\n",
      "Epoch 9/12\n",
      "1680/1680 [==============================] - 5s 3ms/step - loss: 0.3082 - acc: 0.8976 - val_loss: 0.1071 - val_acc: 0.9847\n",
      "\n",
      "Epoch 00009: ReduceLROnPlateau reducing learning rate to 0.0002500000118743628.\n",
      "Epoch 10/12\n",
      "1680/1680 [==============================] - 5s 3ms/step - loss: 0.1493 - acc: 0.9583 - val_loss: 0.0475 - val_acc: 0.9944\n",
      "Epoch 11/12\n",
      "1680/1680 [==============================] - 5s 3ms/step - loss: 0.1228 - acc: 0.9571 - val_loss: 0.0518 - val_acc: 0.9889\n",
      "\n",
      "Epoch 00011: ReduceLROnPlateau reducing learning rate to 0.0001250000059371814.\n",
      "Epoch 12/12\n",
      "1680/1680 [==============================] - 5s 3ms/step - loss: 0.0774 - acc: 0.9774 - val_loss: 0.0248 - val_acc: 0.9986\n"
     ]
    }
   ],
   "source": [
    "# epoch: kac tur egitilecek?, batch_size: kacli gruplar halinde egitilecek?\n",
    "egitilmis_model_sonuclari = model.fit(X_train,y_train,batch_size=32,epochs=12,\n",
    "                    validation_data=(X_test,y_test),callbacks=[learning_rate_reduction])"
   ]
  },
  {
   "cell_type": "code",
   "execution_count": 0,
   "metadata": {
    "colab": {},
    "colab_type": "code",
    "id": "GN1kFsCtqQkz"
   },
   "outputs": [],
   "source": [
    "# basari elde ettigimiz modeli kaydediyoruz\n",
    "import h5py\n",
    "model.save('basarili_model.h5py')"
   ]
  },
  {
   "cell_type": "markdown",
   "metadata": {
    "colab_type": "text",
    "id": "iB5oEWda7EF8"
   },
   "source": [
    "## Confusion Matrix'i Çiziyoruz"
   ]
  },
  {
   "cell_type": "code",
   "execution_count": 0,
   "metadata": {
    "colab": {},
    "colab_type": "code",
    "id": "gIW3fxJ27EF9"
   },
   "outputs": [],
   "source": [
    "basliklar = ['5arka','5on','10arka','10on','20arka','20on',\n",
    "             '50arka','50on','100arka','100on','200arka','200on']"
   ]
  },
  {
   "cell_type": "code",
   "execution_count": 0,
   "metadata": {
    "colab": {},
    "colab_type": "code",
    "id": "nQ2qHGMT7EF_"
   },
   "outputs": [],
   "source": [
    "def plot_confusion_matrix(cm, classes,\n",
    "                          title='Confusion matrix',\n",
    "                          cmap=plt.cm.Blues):\n",
    "    plt.imshow(cm, interpolation='nearest', cmap=cmap)\n",
    "    plt.title(title)\n",
    "    plt.colorbar()\n",
    "    tick_marks = np.arange(len(classes))\n",
    "    plt.xticks(tick_marks, classes, rotation=45)\n",
    "    plt.yticks(tick_marks, classes)\n",
    "\n",
    "    thresh = cm.max() / 2.\n",
    "    for i, j in itertools.product(range(cm.shape[0]), range(cm.shape[1])):\n",
    "        plt.text(j, i, cm[i, j],\n",
    "                 horizontalalignment=\"center\",\n",
    "                 color=\"white\" if cm[i, j] > thresh else \"black\")\n",
    "\n",
    "    plt.tight_layout()\n",
    "    plt.ylabel('Gercek Deger')\n",
    "    plt.xlabel('Tahmini Deger')"
   ]
  },
  {
   "cell_type": "code",
   "execution_count": 0,
   "metadata": {
    "colab": {
     "base_uri": "https://localhost:8080/",
     "height": 415
    },
    "colab_type": "code",
    "executionInfo": {
     "elapsed": 2393,
     "status": "ok",
     "timestamp": 1544437755182,
     "user": {
      "displayName": "Alperen Taşkın",
      "photoUrl": "https://lh3.googleusercontent.com/-DRYpxJPI8_I/AAAAAAAAAAI/AAAAAAAAAMg/o7BBD-G7ixQ/s64/photo.jpg",
      "userId": "04327173820284993211"
     },
     "user_tz": -180
    },
    "id": "RbaRwyan7EGB",
    "outputId": "f1eb45dc-e14f-4d33-d7af-589ceff27ba5"
   },
   "outputs": [
    {
     "data": {
      "image/png": "[encoded data removed]",
      "text/plain": [
       "<matplotlib.figure.Figure at 0x7fcae8db1828>"
      ]
     },
     "metadata": {
      "tags": []
     },
     "output_type": "display_data"
    }
   ],
   "source": [
    "# Predict the values from the validation dataset\n",
    "Y_pred = model.predict(X_test)\n",
    "# Convert predictions classes to one hot vectors \n",
    "Y_pred_classes = np.argmax(Y_pred,axis = 1) \n",
    "# Convert validation observations to one hot vectors\n",
    "Y_true = np.argmax(y_test,axis = 1) \n",
    "# compute the confusion matrix\n",
    "confusion_mtx = confusion_matrix(Y_true, Y_pred_classes) \n",
    "# plot the confusion matrix\n",
    "plot_confusion_matrix(confusion_mtx, basliklar)"
   ]
  }
 ],
 "metadata": {
  "accelerator": "GPU",
  "colab": {
   "collapsed_sections": [],
   "name": "model_olusturma.ipynb",
   "provenance": [],
   "version": "0.3.2"
  },
  "kernelspec": {
   "display_name": "Python 3",
   "language": "python",
   "name": "python3"
  },
  "language_info": {
   "codemirror_mode": {
    "name": "ipython",
    "version": 3
   },
   "file_extension": ".py",
   "mimetype": "text/x-python",
   "name": "python",
   "nbconvert_exporter": "python",
   "pygments_lexer": "ipython3",
   "version": "3.6.7"
  }
 },
 "nbformat": 4,
 "nbformat_minor": 1
}
