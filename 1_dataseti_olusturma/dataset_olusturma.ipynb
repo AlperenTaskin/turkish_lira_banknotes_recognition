{
 "cells": [
  {
   "cell_type": "markdown",
   "metadata": {},
   "source": [
    "# Image Augmentation (Sentetik Görüntü Verileri Yaratma)"
   ]
  },
  {
   "cell_type": "code",
   "execution_count": 1,
   "metadata": {},
   "outputs": [
    {
     "name": "stderr",
     "output_type": "stream",
     "text": [
      "/Users/Alperen/anaconda3/lib/python3.6/site-packages/h5py/__init__.py:36: FutureWarning: Conversion of the second argument of issubdtype from `float` to `np.floating` is deprecated. In future, it will be treated as `np.float64 == np.dtype(float).type`.\n",
      "  from ._conv import register_converters as _register_converters\n",
      "Using TensorFlow backend.\n"
     ]
    }
   ],
   "source": [
    "from keras.preprocessing.image import ImageDataGenerator, img_to_array, load_img\n",
    "import os\n",
    "import glob"
   ]
  },
  {
   "cell_type": "code",
   "execution_count": 2,
   "metadata": {},
   "outputs": [],
   "source": [
    "# sentetik goruntu olustururken kullanacagimiz original resimler\n",
    "resimler = ['5-2.jpg', '5-1.jpg', '10-2.jpg', '10-1.jpg', \n",
    "            '20-2.jpg', '20-1.jpg', '50-2.jpg', '50-1.jpg', \n",
    "            '100-2.jpg', '100-1.jpg', '200-2.jpg', '200-1.jpg']\n",
    "# bu goruntulerin bulunacaklari klasorler\n",
    "klasorler = [ '5lira_arka_yuz', '5lira_on_yuz', '10lira_arka_yuz', '10lira_on_yuz',\n",
    "              '20lira_arka_yuz', '20lira_on_yuz', '50lira_arka_yuz', '50lira_on_yuz',\n",
    "              '100lira_arka_yuz', '100lira_on_yuz', '200lira_arka_yuz', '200lira_on_yuz']"
   ]
  },
  {
   "cell_type": "markdown",
   "metadata": {},
   "source": [
    "## Klasörlerin Oluşturulması"
   ]
  },
  {
   "cell_type": "code",
   "execution_count": 9,
   "metadata": {},
   "outputs": [],
   "source": [
    "# olusturacagimiz resimlerin bulunacaklari klasorleri olusturduk\n",
    "os.makedirs('veriler')\n",
    "\n",
    "# resimlerin bulunacagi klasorleri olusturduk\n",
    "for klasor in klasorler :\n",
    "    os.makedirs('./veriler/'+klasor)"
   ]
  },
  {
   "cell_type": "markdown",
   "metadata": {},
   "source": [
    "## Resimlerin Oluşturulması"
   ]
  },
  {
   "cell_type": "code",
   "execution_count": 10,
   "metadata": {},
   "outputs": [],
   "source": [
    "# uretmek istedigimiz sentetik resim sayisi (199 sentetik, 1 tane de orijinali = 200)\n",
    "image_count = 199\n",
    "\n",
    "def resim_uret(images, folders, number):\n",
    "    # kullanilacak veri arttirma tekniklerini tanimladik\n",
    "    datagen = ImageDataGenerator(rotation_range = 10,\n",
    "                                 horizontal_flip = True,\n",
    "                                 vertical_flip = True,\n",
    "                                 zoom_range = 0.2)\n",
    "    \n",
    "    # banknotes klasorunden orijinal resimleri tek tek okuyup matrise ceviriyoruz\n",
    "    for counter in range(len(images)):\n",
    "        img = load_img('./banknotes/'+images[counter])\n",
    "        x = img_to_array(img)\n",
    "        x = x.reshape((1,) + x.shape)\n",
    "        \n",
    "        # herbir banknote yuzu icin de 199 adet sentetik veri uretiyoruz\n",
    "        i = 1\n",
    "        for batch in datagen.flow(x, batch_size = 1,\n",
    "                          save_to_dir = './veriler/'+folders[counter], \n",
    "                          save_format = 'jpg'\n",
    "                          ):\n",
    "            i += 1\n",
    "            if i > number:\n",
    "                break \n",
    "\n",
    "resim_uret(resimler,klasorler,image_count)"
   ]
  },
  {
   "cell_type": "markdown",
   "metadata": {},
   "source": [
    "## Eksik Üretilen Resimlerin Kontrolü ve Tekrar Üretilmesi"
   ]
  },
  {
   "cell_type": "code",
   "execution_count": 11,
   "metadata": {},
   "outputs": [
    {
     "name": "stdout",
     "output_type": "stream",
     "text": [
      "[198, 195, 198, 197, 197, 198, 198, 195, 196, 198, 197, 197]\n"
     ]
    }
   ],
   "source": [
    "# https://github.com/keras-team/keras/issues/8249 veri kaybetme sorunu\n",
    "\"\"\"\n",
    "save_to_dir parametresi yuzunden istenilenden eksik sayida resim uretilebiliyor. Bu durumu kontrol etmemiz gerekir\n",
    "\"\"\"\n",
    "goruntu_sayilari = list()\n",
    "\n",
    "# her banknote icin urettigimiz goruntu miktarini bulup listeye atiyoruz\n",
    "def uretilen_goruntu_sayisini_bul():\n",
    "    for sayac in range(len(klasorler)):\n",
    "        goruntu_sayilari.append(len(glob.glob('./veriler/'+klasorler[sayac]+'/*.jpg')))\n",
    "        \n",
    "uretilen_goruntu_sayisini_bul()\n",
    "print(goruntu_sayilari)"
   ]
  },
  {
   "cell_type": "code",
   "execution_count": 12,
   "metadata": {},
   "outputs": [],
   "source": [
    "goruntu_sayilari = []\n",
    "\n",
    "# eksik goruntuleri bulduktan sonra olmasi gereken sayiya tamamliyoruz\n",
    "eksikVarmi = True\n",
    "\n",
    "def klasorleri_kontrol_et():\n",
    "    global eksikVarmi\n",
    "    global goruntu_sayilari\n",
    "    goruntu_sayilari = []\n",
    "    uretilen_goruntu_sayisini_bul()\n",
    "    sayac = -1\n",
    "    for i in range(len(goruntu_sayilari)):\n",
    "        if goruntu_sayilari[i] != image_count:\n",
    "            eksikVarmi = True\n",
    "            sayac = i\n",
    "            break\n",
    "        else :\n",
    "            eksikVarmi = False\n",
    "    \n",
    "    if eksikVarmi :\n",
    "        return sayac\n",
    "    else :\n",
    "        return -1\n",
    "            \n",
    "def eksikleri_tamamla():\n",
    "    global eksikVarmi\n",
    "    eksik_olan_index = klasorleri_kontrol_et()\n",
    "    \n",
    "    if eksik_olan_index != -1:\n",
    "        uretilecek_resimler = list()\n",
    "        eklenecek_klasorler = list()\n",
    "        # eksik uretilen resim sayisini buluyoruz\n",
    "        eksik_resim_sayisi = image_count - goruntu_sayilari[eksik_olan_index]\n",
    "\n",
    "        # resim_uret fonksiyonu icin resimler ve klasorler listelerde tutulmali\n",
    "        uretilecek_resimler.append(resimler[eksik_olan_index])\n",
    "        eklenecek_klasorler.append(klasorler[eksik_olan_index])\n",
    "\n",
    "        resim_uret(uretilecek_resimler, eklenecek_klasorler, eksik_resim_sayisi)\n",
    "    else :\n",
    "        eksikVarmi = False\n",
    "        \n",
    "while eksikVarmi:\n",
    "    eksikleri_tamamla()"
   ]
  },
  {
   "cell_type": "code",
   "execution_count": 13,
   "metadata": {},
   "outputs": [
    {
     "name": "stdout",
     "output_type": "stream",
     "text": [
      "[199, 199, 199, 199, 199, 199, 199, 199, 199, 199, 199, 199]\n"
     ]
    }
   ],
   "source": [
    "goruntu_sayilari = []\n",
    "uretilen_goruntu_sayisini_bul()\n",
    "print(goruntu_sayilari)"
   ]
  },
  {
   "cell_type": "markdown",
   "metadata": {},
   "source": [
    "## Orijinal Resimleri Verilere Ekleme"
   ]
  },
  {
   "cell_type": "code",
   "execution_count": 14,
   "metadata": {},
   "outputs": [],
   "source": [
    "from shutil import copy2\n",
    "\n",
    "# banknotes klasorunun icindeki orijinal resimleri, urettigimiz sentetik verilerin arasina kopyaliyor\n",
    "for sayac in range(len(resimler)):\n",
    "    copy2('./banknotes/'+resimler[sayac], './veriler/'+klasorler[sayac])"
   ]
  },
  {
   "cell_type": "code",
   "execution_count": 15,
   "metadata": {},
   "outputs": [
    {
     "name": "stdout",
     "output_type": "stream",
     "text": [
      "[200, 200, 200, 200, 200, 200, 200, 200, 200, 200, 200, 200]\n"
     ]
    }
   ],
   "source": [
    "goruntu_sayilari = []\n",
    "uretilen_goruntu_sayisini_bul()\n",
    "print(goruntu_sayilari)"
   ]
  },
  {
   "cell_type": "markdown",
   "metadata": {},
   "source": [
    "## Eğitim Verisinin Oluşturulması"
   ]
  },
  {
   "cell_type": "code",
   "execution_count": 16,
   "metadata": {},
   "outputs": [],
   "source": [
    "import cv2\n",
    "import numpy as np\n",
    "import pandas as pd"
   ]
  },
  {
   "cell_type": "code",
   "execution_count": 19,
   "metadata": {},
   "outputs": [],
   "source": [
    "labels = []\n",
    "\n",
    "# egitim verisinin cikti degerleri\n",
    "# 200'er tane 0,1,2, .. ,11 den olusan bir dizi olusturuyoruz\n",
    "for i in range(12):\n",
    "    for counter in range(200):\n",
    "        labels.append(i)"
   ]
  },
  {
   "cell_type": "code",
   "execution_count": 17,
   "metadata": {},
   "outputs": [],
   "source": [
    "images = []\n",
    "\n",
    "# egitim verisinin cikti degerleri\n",
    "def verileriOku(foldername):\n",
    "    for counter in range(len(foldername)):\n",
    "        for filename in glob.glob('./veriler/'+foldername[counter]+'/*.jpg'):\n",
    "            img = cv2.imread(filename)\n",
    "            \n",
    "            # resimleri hizli isleyebilmek ve ayni boyuta gelmelerini saglamak icin 200*92 seklinde boyutlandiriyoruz\n",
    "            img = cv2.resize(img, (200, 92))\n",
    "            # resimleri siyah beyaz yapiyoruz\n",
    "            img = cv2.cvtColor(img, cv2.COLOR_BGR2GRAY)\n",
    "            images.append(img)\n",
    "\n",
    "verileriOku(klasorler)"
   ]
  },
  {
   "cell_type": "code",
   "execution_count": 20,
   "metadata": {},
   "outputs": [],
   "source": [
    "# resimleri 200*92 = 18400 boyutunda bir listeye ceviriyoruz\n",
    "# toplamda 12*200 = 2400 resim bulunmakta\n",
    "images = np.reshape(images, (2400,18400))\n",
    "\n",
    "images_csv = pd.DataFrame(images)\n",
    "images_csv.to_csv('../verisetleri/images.csv')\n",
    "\n",
    "labels_csv = pd.DataFrame(labels)\n",
    "labels_csv.to_csv('../verisetleri/labels.csv')"
   ]
  },
  {
   "cell_type": "code",
   "execution_count": 21,
   "metadata": {},
   "outputs": [
    {
     "name": "stdout",
     "output_type": "stream",
     "text": [
      "<class 'pandas.core.frame.DataFrame'>\n",
      "RangeIndex: 2400 entries, 0 to 2399\n",
      "Columns: 18400 entries, 0 to 18399\n",
      "dtypes: uint8(18400)\n",
      "memory usage: 42.1 MB\n"
     ]
    }
   ],
   "source": [
    "images_csv.info()"
   ]
  },
  {
   "cell_type": "code",
   "execution_count": 22,
   "metadata": {},
   "outputs": [
    {
     "name": "stdout",
     "output_type": "stream",
     "text": [
      "<class 'pandas.core.frame.DataFrame'>\n",
      "RangeIndex: 2400 entries, 0 to 2399\n",
      "Data columns (total 1 columns):\n",
      "0    2400 non-null int64\n",
      "dtypes: int64(1)\n",
      "memory usage: 18.8 KB\n"
     ]
    }
   ],
   "source": [
    "labels_csv.info()"
   ]
  },
  {
   "cell_type": "code",
   "execution_count": 23,
   "metadata": {},
   "outputs": [
    {
     "data": {
      "text/html": [
       "<div>\n",
       "<style scoped>\n",
       "    .dataframe tbody tr th:only-of-type {\n",
       "        vertical-align: middle;\n",
       "    }\n",
       "\n",
       "    .dataframe tbody tr th {\n",
       "        vertical-align: top;\n",
       "    }\n",
       "\n",
       "    .dataframe thead th {\n",
       "        text-align: right;\n",
       "    }\n",
       "</style>\n",
       "<table border=\"1\" class=\"dataframe\">\n",
       "  <thead>\n",
       "    <tr style=\"text-align: right;\">\n",
       "      <th></th>\n",
       "      <th>0</th>\n",
       "      <th>1</th>\n",
       "      <th>2</th>\n",
       "      <th>3</th>\n",
       "      <th>4</th>\n",
       "      <th>5</th>\n",
       "      <th>6</th>\n",
       "      <th>7</th>\n",
       "      <th>8</th>\n",
       "      <th>9</th>\n",
       "      <th>...</th>\n",
       "      <th>18390</th>\n",
       "      <th>18391</th>\n",
       "      <th>18392</th>\n",
       "      <th>18393</th>\n",
       "      <th>18394</th>\n",
       "      <th>18395</th>\n",
       "      <th>18396</th>\n",
       "      <th>18397</th>\n",
       "      <th>18398</th>\n",
       "      <th>18399</th>\n",
       "    </tr>\n",
       "  </thead>\n",
       "  <tbody>\n",
       "    <tr>\n",
       "      <th>0</th>\n",
       "      <td>244</td>\n",
       "      <td>242</td>\n",
       "      <td>241</td>\n",
       "      <td>245</td>\n",
       "      <td>247</td>\n",
       "      <td>247</td>\n",
       "      <td>247</td>\n",
       "      <td>245</td>\n",
       "      <td>247</td>\n",
       "      <td>247</td>\n",
       "      <td>...</td>\n",
       "      <td>230</td>\n",
       "      <td>230</td>\n",
       "      <td>228</td>\n",
       "      <td>225</td>\n",
       "      <td>224</td>\n",
       "      <td>222</td>\n",
       "      <td>222</td>\n",
       "      <td>229</td>\n",
       "      <td>224</td>\n",
       "      <td>218</td>\n",
       "    </tr>\n",
       "    <tr>\n",
       "      <th>1</th>\n",
       "      <td>234</td>\n",
       "      <td>234</td>\n",
       "      <td>234</td>\n",
       "      <td>234</td>\n",
       "      <td>232</td>\n",
       "      <td>233</td>\n",
       "      <td>234</td>\n",
       "      <td>235</td>\n",
       "      <td>235</td>\n",
       "      <td>237</td>\n",
       "      <td>...</td>\n",
       "      <td>239</td>\n",
       "      <td>240</td>\n",
       "      <td>240</td>\n",
       "      <td>237</td>\n",
       "      <td>241</td>\n",
       "      <td>236</td>\n",
       "      <td>237</td>\n",
       "      <td>234</td>\n",
       "      <td>234</td>\n",
       "      <td>234</td>\n",
       "    </tr>\n",
       "    <tr>\n",
       "      <th>2</th>\n",
       "      <td>226</td>\n",
       "      <td>234</td>\n",
       "      <td>229</td>\n",
       "      <td>227</td>\n",
       "      <td>227</td>\n",
       "      <td>228</td>\n",
       "      <td>225</td>\n",
       "      <td>228</td>\n",
       "      <td>226</td>\n",
       "      <td>230</td>\n",
       "      <td>...</td>\n",
       "      <td>238</td>\n",
       "      <td>238</td>\n",
       "      <td>236</td>\n",
       "      <td>237</td>\n",
       "      <td>238</td>\n",
       "      <td>239</td>\n",
       "      <td>238</td>\n",
       "      <td>237</td>\n",
       "      <td>238</td>\n",
       "      <td>239</td>\n",
       "    </tr>\n",
       "    <tr>\n",
       "      <th>3</th>\n",
       "      <td>234</td>\n",
       "      <td>234</td>\n",
       "      <td>234</td>\n",
       "      <td>234</td>\n",
       "      <td>234</td>\n",
       "      <td>234</td>\n",
       "      <td>237</td>\n",
       "      <td>240</td>\n",
       "      <td>239</td>\n",
       "      <td>240</td>\n",
       "      <td>...</td>\n",
       "      <td>235</td>\n",
       "      <td>234</td>\n",
       "      <td>233</td>\n",
       "      <td>232</td>\n",
       "      <td>234</td>\n",
       "      <td>234</td>\n",
       "      <td>234</td>\n",
       "      <td>234</td>\n",
       "      <td>234</td>\n",
       "      <td>234</td>\n",
       "    </tr>\n",
       "    <tr>\n",
       "      <th>4</th>\n",
       "      <td>247</td>\n",
       "      <td>247</td>\n",
       "      <td>247</td>\n",
       "      <td>247</td>\n",
       "      <td>247</td>\n",
       "      <td>247</td>\n",
       "      <td>246</td>\n",
       "      <td>245</td>\n",
       "      <td>247</td>\n",
       "      <td>246</td>\n",
       "      <td>...</td>\n",
       "      <td>229</td>\n",
       "      <td>229</td>\n",
       "      <td>229</td>\n",
       "      <td>228</td>\n",
       "      <td>229</td>\n",
       "      <td>225</td>\n",
       "      <td>222</td>\n",
       "      <td>224</td>\n",
       "      <td>224</td>\n",
       "      <td>226</td>\n",
       "    </tr>\n",
       "  </tbody>\n",
       "</table>\n",
       "<p>5 rows × 18400 columns</p>\n",
       "</div>"
      ],
      "text/plain": [
       "   0      1      2      3      4      5      6      7      8      9      \\\n",
       "0    244    242    241    245    247    247    247    245    247    247   \n",
       "1    234    234    234    234    232    233    234    235    235    237   \n",
       "2    226    234    229    227    227    228    225    228    226    230   \n",
       "3    234    234    234    234    234    234    237    240    239    240   \n",
       "4    247    247    247    247    247    247    246    245    247    246   \n",
       "\n",
       "   ...    18390  18391  18392  18393  18394  18395  18396  18397  18398  18399  \n",
       "0  ...      230    230    228    225    224    222    222    229    224    218  \n",
       "1  ...      239    240    240    237    241    236    237    234    234    234  \n",
       "2  ...      238    238    236    237    238    239    238    237    238    239  \n",
       "3  ...      235    234    233    232    234    234    234    234    234    234  \n",
       "4  ...      229    229    229    228    229    225    222    224    224    226  \n",
       "\n",
       "[5 rows x 18400 columns]"
      ]
     },
     "execution_count": 23,
     "metadata": {},
     "output_type": "execute_result"
    }
   ],
   "source": [
    "images_csv.head()"
   ]
  },
  {
   "cell_type": "code",
   "execution_count": 24,
   "metadata": {},
   "outputs": [
    {
     "data": {
      "text/html": [
       "<div>\n",
       "<style scoped>\n",
       "    .dataframe tbody tr th:only-of-type {\n",
       "        vertical-align: middle;\n",
       "    }\n",
       "\n",
       "    .dataframe tbody tr th {\n",
       "        vertical-align: top;\n",
       "    }\n",
       "\n",
       "    .dataframe thead th {\n",
       "        text-align: right;\n",
       "    }\n",
       "</style>\n",
       "<table border=\"1\" class=\"dataframe\">\n",
       "  <thead>\n",
       "    <tr style=\"text-align: right;\">\n",
       "      <th></th>\n",
       "      <th>0</th>\n",
       "    </tr>\n",
       "  </thead>\n",
       "  <tbody>\n",
       "    <tr>\n",
       "      <th>0</th>\n",
       "      <td>0</td>\n",
       "    </tr>\n",
       "    <tr>\n",
       "      <th>1</th>\n",
       "      <td>0</td>\n",
       "    </tr>\n",
       "    <tr>\n",
       "      <th>2</th>\n",
       "      <td>0</td>\n",
       "    </tr>\n",
       "    <tr>\n",
       "      <th>3</th>\n",
       "      <td>0</td>\n",
       "    </tr>\n",
       "    <tr>\n",
       "      <th>4</th>\n",
       "      <td>0</td>\n",
       "    </tr>\n",
       "  </tbody>\n",
       "</table>\n",
       "</div>"
      ],
      "text/plain": [
       "   0\n",
       "0  0\n",
       "1  0\n",
       "2  0\n",
       "3  0\n",
       "4  0"
      ]
     },
     "execution_count": 24,
     "metadata": {},
     "output_type": "execute_result"
    }
   ],
   "source": [
    "labels_csv.head()"
   ]
  }
 ],
 "metadata": {
  "kernelspec": {
   "display_name": "Python 3",
   "language": "python",
   "name": "python3"
  },
  "language_info": {
   "codemirror_mode": {
    "name": "ipython",
    "version": 3
   },
   "file_extension": ".py",
   "mimetype": "text/x-python",
   "name": "python",
   "nbconvert_exporter": "python",
   "pygments_lexer": "ipython3",
   "version": "3.6.7"
  }
 },
 "nbformat": 4,
 "nbformat_minor": 2
}
